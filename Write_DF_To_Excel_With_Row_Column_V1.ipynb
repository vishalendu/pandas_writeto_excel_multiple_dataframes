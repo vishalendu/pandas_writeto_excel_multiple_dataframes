{
 "cells": [
  {
   "cell_type": "markdown",
   "id": "c597126e",
   "metadata": {},
   "source": [
    "## How to (Not Overwrite) an Excel File while trying to update it\n",
    "Ref: \n",
    "https://stackoverflow.com/questions/20219254/how-to-write-to-an-existing-excel-file-without-overwriting-data-using-pandas/47740262#47740262"
   ]
  },
  {
   "cell_type": "code",
   "execution_count": 81,
   "id": "96f8121f",
   "metadata": {},
   "outputs": [],
   "source": [
    "import pandas as pd\n",
    "from openpyxl import load_workbook,Workbook\n",
    "import os"
   ]
  },
  {
   "cell_type": "code",
   "execution_count": 82,
   "id": "afe25968",
   "metadata": {},
   "outputs": [],
   "source": [
    "START_COL=7\n",
    "START_ROW=6\n",
    "\n",
    "# Open existing file or create a new one\n",
    "def getExcel(PATH):\n",
    "    if os.path.isfile(PATH) and os.access(PATH, os.R_OK):\n",
    "        print(\"File exists and is readable. Reading existing file\")\n",
    "        book = load_workbook(PATH)\n",
    "    else:\n",
    "        print(\"Either the file is missing or not readable. Creating new file.\")\n",
    "        book = Workbook()\n",
    "        ws = book.active\n",
    "        ws.title = \"Sheet1\"\n",
    "        book.save(filename=PATH)\n",
    "    return book\n",
    "\n",
    "def write_df_col(PATH,sheet,df,startc,indexWrite):\n",
    "    try:\n",
    "        book = getExcel(PATH)  \n",
    "        writer = pd.ExcelWriter(PATH, engine='openpyxl')\n",
    "        writer.book = book\n",
    "        writer.sheets = dict((ws.title, ws) for ws in book.worksheets)\n",
    "\n",
    "        print(f\"writer.sheets = {writer.sheets}\")\n",
    "        df.to_excel(writer, sheet, startcol=startc,startrow=START_ROW,index=indexWrite)\n",
    "        writer.save()\n",
    "    except:\n",
    "        book.close()\n",
    "    finally:\n",
    "        book.close()"
   ]
  },
  {
   "cell_type": "code",
   "execution_count": 83,
   "id": "627fd5c5",
   "metadata": {},
   "outputs": [
    {
     "name": "stdout",
     "output_type": "stream",
     "text": [
      "File exists and is readable. Reading existing file\n",
      "writer.sheets = {'Sheet1': <Worksheet \"Sheet1\">, 'Sheet2': <Worksheet \"Sheet2\">}\n"
     ]
    }
   ],
   "source": [
    "test1df = pd.DataFrame({'Data': [3, 14, 25, 36]})\n",
    "test2df = pd.DataFrame({'Data': [13, 24, 35, 46]})\n",
    "test3df = pd.DataFrame({'Data': [23, 34, 45, 56]})\n",
    "\n",
    "# testdict= {1:test1df,2:test2df,3:test3df}\n",
    " \n",
    "#STEP1 -- Update 2 values (Check Excel should have 2 Data columns)\n",
    "testdict= {1:test1df,2:test2df}\n",
    "#STEP2 -- Add one more columns\n",
    "#testdict= {3:test3df}\n",
    "\n",
    "File='./sample.xlsx'\n",
    "\n",
    "listcol=[0,2,3]\n",
    "for key, df in testdict.items():\n",
    "    if(key==1):\n",
    "        write_df_col(File,\"Sheet1\",df,START_COL,True)\n",
    "    else:\n",
    "        write_df_col(File,\"Sheet1\",df,START_COL+ listcol[key-1],False)"
   ]
  },
  {
   "cell_type": "code",
   "execution_count": null,
   "id": "b087cd0a",
   "metadata": {},
   "outputs": [],
   "source": []
  }
 ],
 "metadata": {
  "kernelspec": {
   "display_name": "Python 3",
   "language": "python",
   "name": "python3"
  },
  "language_info": {
   "codemirror_mode": {
    "name": "ipython",
    "version": 3
   },
   "file_extension": ".py",
   "mimetype": "text/x-python",
   "name": "python",
   "nbconvert_exporter": "python",
   "pygments_lexer": "ipython3",
   "version": "3.8.13"
  }
 },
 "nbformat": 4,
 "nbformat_minor": 5
}
